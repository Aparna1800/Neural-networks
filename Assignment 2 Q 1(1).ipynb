{
  "nbformat": 4,
  "nbformat_minor": 0,
  "metadata": {
    "colab": {
      "provenance": []
    },
    "kernelspec": {
      "name": "python3",
      "display_name": "Python 3"
    },
    "language_info": {
      "name": "python"
    }
  },
  "cells": [
    {
      "cell_type": "code",
      "execution_count": 1,
      "metadata": {
        "colab": {
          "base_uri": "https://localhost:8080/"
        },
        "id": "8JxcNyovEvqx",
        "outputId": "40727107-5193-4f12-927e-b1931dc1e4f9"
      },
      "outputs": [
        {
          "output_type": "stream",
          "name": "stdout",
          "text": [
            "Enter your last name: Surya\n",
            "Enter your first name: Aparna\n",
            "Full name:  Aparna Surya\n"
          ]
        }
      ],
      "source": [
        "# 1a. Write a program that takes two strings from the user: first_name, last_name. Pass these variables to fullname function that should return the (full name).\n",
        "# For example:\n",
        "# First_name = “your first name”, last_name = “your last name”\n",
        "# Full_name = “your full name”\n",
        "\n",
        "# Ask user to provide first name and last name\n",
        "last_name = input (\"Enter your last name: \")\n",
        "first_name = input(\"Enter your first name: \")\n",
        "\n",
        "# Fullname is a function which takes 2 parameters first_name and last_name\n",
        "def Fullname(fisrt_name, last_name):\n",
        "    Full_name = first_name + \" \" + last_name\n",
        "    return Full_name\n",
        "\n",
        "# call 'Fullname' function and pass variables\n",
        "Full_name = Fullname(first_name, last_name)\n",
        "\n",
        "# Print the output as fullname\n",
        "print(\"Full name: \", Full_name)\n"
      ]
    }
  ]
}