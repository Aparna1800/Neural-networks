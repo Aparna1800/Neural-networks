{
  "nbformat": 4,
  "nbformat_minor": 0,
  "metadata": {
    "colab": {
      "provenance": []
    },
    "kernelspec": {
      "name": "python3",
      "display_name": "Python 3"
    },
    "language_info": {
      "name": "python"
    }
  },
  "cells": [
    {
      "cell_type": "code",
      "execution_count": null,
      "metadata": {
        "colab": {
          "base_uri": "https://localhost:8080/"
        },
        "id": "lo5l41SE9UdL",
        "outputId": "0db26c67-6c11-4fad-efa8-49d575eb1da6"
      },
      "outputs": [
        {
          "output_type": "stream",
          "name": "stdout",
          "text": [
            "Go vnn\n"
          ]
        }
      ],
      "source": [
        "#defining the function\n",
        "def string_alternative(string):\n",
        "    o=''\n",
        "#Iterative loop\n",
        "    for i in range(len(string)):\n",
        "        if(i%2==0):\n",
        "            o=o+string[i]\n",
        "    return o\n",
        "if __name__=='__main__':\n",
        "#Print the result for given string\n",
        "    print(string_alternative(\"Good Evening\"))"
      ]
    }
  ]
}