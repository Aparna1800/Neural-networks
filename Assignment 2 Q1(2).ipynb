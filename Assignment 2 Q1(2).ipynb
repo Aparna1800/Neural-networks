{
  "nbformat": 4,
  "nbformat_minor": 0,
  "metadata": {
    "colab": {
      "provenance": []
    },
    "kernelspec": {
      "name": "python3",
      "display_name": "Python 3"
    },
    "language_info": {
      "name": "python"
    }
  },
  "cells": [
    {
      "cell_type": "code",
      "execution_count": 1,
      "metadata": {
        "colab": {
          "base_uri": "https://localhost:8080/"
        },
        "id": "8JxcNyovEvqx",
        "outputId": "40727107-5193-4f12-927e-b1931dc1e4f9"
      },
      "outputs": [
        {
          "output_type": "stream",
          "name": "stdout",
          "text": [
            "Enter your last name: Surya\n",
            "Enter your first name: Aparna\n",
            "Full name:  Aparna Surya\n"
          ]
        }
      ],
      "source": [
        "# 1a. Write a program that takes two strings from the user: first_name, last_name. Pass these variables to fullname function that should return the (full name).\n",
        "# For example:\n",
        "# First_name = “your first name”, last_name = “your last name”\n",
        "# Full_name = “your full name”\n",
        "\n",
        "# Ask user to provide first name and last name\n",
        "last_name = input (\"Enter your last name: \")\n",
        "first_name = input(\"Enter your first name: \")\n",
        "\n",
        "# Fullname is a function which takes 2 parameters first_name and last_name\n",
        "def Fullname(fisrt_name, last_name):\n",
        "    Full_name = first_name + \" \" + last_name\n",
        "    return Full_name\n",
        "\n",
        "# call 'Fullname' function and pass variables\n",
        "Full_name = Fullname(first_name, last_name)\n",
        "\n",
        "# Print the output as fullname\n",
        "print(\"Full name: \", Full_name)\n"
      ]
    },
    {
      "cell_type": "code",
      "source": [
        "# 1b. Write function named “string_alternative” that returns every other char in the full_name string.\n",
        "# Str = “Good evening”\n",
        "# Output: Go vnn\n",
        "# Note: You need to create a function named “string_alternative” for this program and call it from main function.\n",
        "\n",
        "# Define Fullname as function which takes 2 parameters first_name and last_name\n",
        "def Fullname(fisrt_name, last_name):\n",
        "    Full_name = first_name + \" \" + last_name\n",
        "    return Full_name\n",
        "\n",
        "# Define 'string_alternative' as function which takes input and slices with a step of 2\n",
        "def string_alternative(input_string):\n",
        "    return input_string[::2]\n",
        "\n",
        "# Ask user to provide first name and last name\n",
        "last_name = input (\"Enter your last name: \")\n",
        "first_name = input(\"Enter your first name: \")\n",
        "\n",
        "# Function call with user provided first_name & last_name\n",
        "Full_name = Fullname(first_name, last_name)\n",
        "\n",
        "# string_alternative function is used to extract alternative chars from fullname\n",
        "alternating_chars = string_alternative(Full_name)\n",
        "\n",
        "# Print output as full name and alternate chars\n",
        "print(\"Full Name: \", Full_name)\n",
        "print(\"Alternating Characters: \", alternating_chars)"
      ],
      "metadata": {
        "colab": {
          "base_uri": "https://localhost:8080/"
        },
        "id": "8PVSmSxqFAVa",
        "outputId": "430a978f-6618-407a-e75c-a311c157c74e"
      },
      "execution_count": 2,
      "outputs": [
        {
          "output_type": "stream",
          "name": "stdout",
          "text": [
            "Enter your last name: Surya\n",
            "Enter your first name: Aparna\n",
            "Full Name:  Aparna Surya\n",
            "Alternating Characters:  Aan uy\n"
          ]
        }
      ]
    }
  ]
}